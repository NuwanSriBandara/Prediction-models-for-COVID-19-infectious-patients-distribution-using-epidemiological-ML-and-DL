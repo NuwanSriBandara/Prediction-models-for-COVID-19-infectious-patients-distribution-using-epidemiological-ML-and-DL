{
  "nbformat": 4,
  "nbformat_minor": 0,
  "metadata": {
    "kernelspec": {
      "language": "python",
      "display_name": "Python 3",
      "name": "python3"
    },
    "language_info": {
      "pygments_lexer": "ipython3",
      "nbconvert_exporter": "python",
      "version": "3.6.4",
      "file_extension": ".py",
      "codemirror_mode": {
        "name": "ipython",
        "version": 3
      },
      "name": "python",
      "mimetype": "text/x-python"
    },
    "colab": {
      "name": "DA2023_InterfacesForVisualizations.ipynb",
      "provenance": []
    }
  },
  "cells": [
    {
      "cell_type": "markdown",
      "metadata": {
        "id": "258Ezy8ltABY"
      },
      "source": [
        "### Acknowledgements\n",
        "\n",
        "> https://github.com/CSSEGISandData/COVID-19\n",
        "\n",
        "### Collection methodology\n",
        "\n",
        "> https://github.com/imdevskp/covid_19_jhu_data_web_scrap_and_cleaning\n",
        "\n",
        "### Disclaimer\n",
        "\n",
        "> * Data is from scrapped from JHU github repository. Any variation in the data there will also reflect in this notebook"
      ]
    },
    {
      "cell_type": "markdown",
      "metadata": {
        "id": "bi4dXsYjtABZ"
      },
      "source": [
        "### Timeline"
      ]
    },
    {
      "cell_type": "code",
      "metadata": {
        "_kg_hide-input": true,
        "_kg_hide-output": true,
        "trusted": true,
        "id": "JFEtPFiJtABa"
      },
      "source": [
        "# from IPython.core.display import HTML"
      ],
      "execution_count": null,
      "outputs": []
    },
    {
      "cell_type": "code",
      "metadata": {
        "_kg_hide-input": true,
        "trusted": true,
        "id": "25hZKMqQtABe"
      },
      "source": [
        "# HTML('''<div class=\"flourish-embed flourish-cards\" data-src=\"visualisation/1810417\" data-url=\"https://flo.uri.sh/visualisation/1810417/embed\"><script src=\"https://public.flourish.studio/resources/embed.js\"></script></div>''')"
      ],
      "execution_count": null,
      "outputs": []
    },
    {
      "cell_type": "markdown",
      "metadata": {
        "id": "HBNDjaSxtABh"
      },
      "source": [
        "### Ships that had passengers with COVID-19"
      ]
    },
    {
      "cell_type": "code",
      "metadata": {
        "_kg_hide-input": true,
        "trusted": true,
        "id": "UKWiSGeItABi"
      },
      "source": [
        "# HTML('''<div class=\"flourish-embed flourish-cards\" data-src=\"visualisation/1816605\" data-url=\"https://flo.uri.sh/visualisation/1816605/embed\"><script src=\"https://public.flourish.studio/resources/embed.js\"></script></div>''')"
      ],
      "execution_count": null,
      "outputs": []
    },
    {
      "cell_type": "markdown",
      "metadata": {
        "id": "nbYspVkltABl"
      },
      "source": [
        "# Libraries"
      ]
    },
    {
      "cell_type": "markdown",
      "metadata": {
        "id": "JIIiegwBtABm"
      },
      "source": [
        "### Install libraries"
      ]
    },
    {
      "cell_type": "code",
      "metadata": {
        "trusted": true,
        "_kg_hide-output": true,
        "_kg_hide-input": true,
        "id": "UBDS_JZetABn"
      },
      "source": [
        "# get latest version of pip\n",
        "# !pip install --upgrade pip\n",
        "\n",
        "# for calender map\n",
        "# ! pip install calmap\n",
        "\n",
        "# to convert us statenames to state codes\n",
        "# ! pip install us\n",
        "\n",
        "# to get continent name from country name\n",
        "# ! pip install pycountry_convert"
      ],
      "execution_count": null,
      "outputs": []
    },
    {
      "cell_type": "markdown",
      "metadata": {
        "id": "ZuB7wT3UtABq"
      },
      "source": [
        "### Load libraries"
      ]
    },
    {
      "cell_type": "code",
      "metadata": {
        "trusted": true,
        "_kg_hide-input": true,
        "id": "PwQb-UyRtABq"
      },
      "source": [
        "# math opeations\n",
        "# import math\n",
        "# produce random numbers\n",
        "# import random\n",
        "# to load json files\n",
        "import json\n",
        "# datetime oprations\n",
        "from datetime import timedelta\n",
        "# to get web contents\n",
        "from urllib.request import urlopen\n",
        "\n",
        "# for numerical analyiss\n",
        "import numpy as np\n",
        "# to store and process data in dataframe\n",
        "import pandas as pd"
      ],
      "execution_count": null,
      "outputs": []
    },
    {
      "cell_type": "code",
      "metadata": {
        "trusted": true,
        "_kg_hide-input": true,
        "id": "aZnaYzNvtABs"
      },
      "source": [
        "# basic visualization package\n",
        "import matplotlib.pyplot as plt\n",
        "# advanced ploting\n",
        "import seaborn as sns\n",
        "\n",
        "# interactive visualization\n",
        "import plotly.express as px\n",
        "import plotly.graph_objs as go\n",
        "# import plotly.figure_factory as ff\n",
        "from plotly.subplots import make_subplots"
      ],
      "execution_count": null,
      "outputs": []
    },
    {
      "cell_type": "code",
      "metadata": {
        "trusted": true,
        "_kg_hide-input": true,
        "id": "j3nWXJtStABv",
        "outputId": "5f3ae16b-61d2-4d12-8df0-cf90a7d361d1",
        "colab": {
          "base_uri": "https://localhost:8080/",
          "height": 17
        }
      },
      "source": [
        "# for offline ploting\n",
        "from plotly.offline import plot, iplot, init_notebook_mode\n",
        "init_notebook_mode(connected=True)"
      ],
      "execution_count": null,
      "outputs": [
        {
          "output_type": "display_data",
          "data": {
            "text/html": [
              "        <script type=\"text/javascript\">\n",
              "        window.PlotlyConfig = {MathJaxConfig: 'local'};\n",
              "        if (window.MathJax) {MathJax.Hub.Config({SVG: {font: \"STIX-Web\"}});}\n",
              "        if (typeof require !== 'undefined') {\n",
              "        require.undef(\"plotly\");\n",
              "        requirejs.config({\n",
              "            paths: {\n",
              "                'plotly': ['https://cdn.plot.ly/plotly-latest.min']\n",
              "            }\n",
              "        });\n",
              "        require(['plotly'], function(Plotly) {\n",
              "            window._Plotly = Plotly;\n",
              "        });\n",
              "        }\n",
              "        </script>\n",
              "        "
            ]
          },
          "metadata": {
            "tags": []
          }
        }
      ]
    },
    {
      "cell_type": "code",
      "metadata": {
        "_uuid": "8f2839f25d086af736a60e9eeb907d3b93b6e0e5",
        "_cell_guid": "b1076dfc-b9ad-4769-8c92-a6c4dae69d19",
        "trusted": true,
        "_kg_hide-input": true,
        "_kg_hide-output": true,
        "id": "NO4YT05GtABy"
      },
      "source": [
        "# converter\n",
        "# from pandas.plotting import register_matplotlib_converters\n",
        "# register_matplotlib_converters()   \n",
        "\n",
        "# hide warnings\n",
        "import warnings\n",
        "warnings.filterwarnings('ignore')\n",
        "\n",
        "# to USA states details\n",
        "# import us"
      ],
      "execution_count": null,
      "outputs": []
    },
    {
      "cell_type": "markdown",
      "metadata": {
        "id": "Sd0YndpgtAB0"
      },
      "source": [
        "### Color, theme, color palettes"
      ]
    },
    {
      "cell_type": "code",
      "metadata": {
        "trusted": true,
        "_kg_hide-input": true,
        "id": "TKKCVQOAtAB0"
      },
      "source": [
        "# color pallette\n",
        "cnf, dth, rec, act = '#393e46', '#ff2e63', '#21bf73', '#fe9801' \n",
        "\n",
        "# seaborn plot style\n",
        "# sns.set_style('darkgrid')"
      ],
      "execution_count": null,
      "outputs": []
    },
    {
      "cell_type": "markdown",
      "metadata": {
        "id": "AQpSLw5etAB2"
      },
      "source": [
        "# Dataset"
      ]
    },
    {
      "cell_type": "code",
      "metadata": {
        "trusted": true,
        "_kg_hide-input": true,
        "_kg_hide-output": false,
        "id": "NgIVVKw_tAB3"
      },
      "source": [
        "# list files\n",
        "# ==========\n",
        "\n",
        "# !ls ../input/corona-virus-report"
      ],
      "execution_count": null,
      "outputs": []
    },
    {
      "cell_type": "code",
      "metadata": {
        "_kg_hide-input": true,
        "trusted": true,
        "id": "HPKyXF-WtAB5",
        "outputId": "b9f18277-866d-4da7-f167-344b7ab22008",
        "colab": {
          "base_uri": "https://localhost:8080/",
          "height": 421
        }
      },
      "source": [
        "# Full data\n",
        "# =========\n",
        "\n",
        "full_table = pd.read_csv('../input/corona-virus-report/covid_19_clean_complete.csv')\n",
        "# full_table.head()"
      ],
      "execution_count": null,
      "outputs": [
        {
          "output_type": "error",
          "ename": "FileNotFoundError",
          "evalue": "ignored",
          "traceback": [
            "\u001b[0;31m---------------------------------------------------------------------------\u001b[0m",
            "\u001b[0;31mFileNotFoundError\u001b[0m                         Traceback (most recent call last)",
            "\u001b[0;32m<ipython-input-11-930a37e40dda>\u001b[0m in \u001b[0;36m<module>\u001b[0;34m()\u001b[0m\n\u001b[1;32m      2\u001b[0m \u001b[0;31m# =========\u001b[0m\u001b[0;34m\u001b[0m\u001b[0;34m\u001b[0m\u001b[0;34m\u001b[0m\u001b[0m\n\u001b[1;32m      3\u001b[0m \u001b[0;34m\u001b[0m\u001b[0m\n\u001b[0;32m----> 4\u001b[0;31m \u001b[0mfull_table\u001b[0m \u001b[0;34m=\u001b[0m \u001b[0mpd\u001b[0m\u001b[0;34m.\u001b[0m\u001b[0mread_csv\u001b[0m\u001b[0;34m(\u001b[0m\u001b[0;34m'../input/corona-virus-report/covid_19_clean_complete.csv'\u001b[0m\u001b[0;34m)\u001b[0m\u001b[0;34m\u001b[0m\u001b[0;34m\u001b[0m\u001b[0m\n\u001b[0m\u001b[1;32m      5\u001b[0m \u001b[0;31m# full_table.head()\u001b[0m\u001b[0;34m\u001b[0m\u001b[0;34m\u001b[0m\u001b[0;34m\u001b[0m\u001b[0m\n",
            "\u001b[0;32m/usr/local/lib/python3.6/dist-packages/pandas/io/parsers.py\u001b[0m in \u001b[0;36mread_csv\u001b[0;34m(filepath_or_buffer, sep, delimiter, header, names, index_col, usecols, squeeze, prefix, mangle_dupe_cols, dtype, engine, converters, true_values, false_values, skipinitialspace, skiprows, skipfooter, nrows, na_values, keep_default_na, na_filter, verbose, skip_blank_lines, parse_dates, infer_datetime_format, keep_date_col, date_parser, dayfirst, cache_dates, iterator, chunksize, compression, thousands, decimal, lineterminator, quotechar, quoting, doublequote, escapechar, comment, encoding, dialect, error_bad_lines, warn_bad_lines, delim_whitespace, low_memory, memory_map, float_precision)\u001b[0m\n\u001b[1;32m    684\u001b[0m     )\n\u001b[1;32m    685\u001b[0m \u001b[0;34m\u001b[0m\u001b[0m\n\u001b[0;32m--> 686\u001b[0;31m     \u001b[0;32mreturn\u001b[0m \u001b[0m_read\u001b[0m\u001b[0;34m(\u001b[0m\u001b[0mfilepath_or_buffer\u001b[0m\u001b[0;34m,\u001b[0m \u001b[0mkwds\u001b[0m\u001b[0;34m)\u001b[0m\u001b[0;34m\u001b[0m\u001b[0;34m\u001b[0m\u001b[0m\n\u001b[0m\u001b[1;32m    687\u001b[0m \u001b[0;34m\u001b[0m\u001b[0m\n\u001b[1;32m    688\u001b[0m \u001b[0;34m\u001b[0m\u001b[0m\n",
            "\u001b[0;32m/usr/local/lib/python3.6/dist-packages/pandas/io/parsers.py\u001b[0m in \u001b[0;36m_read\u001b[0;34m(filepath_or_buffer, kwds)\u001b[0m\n\u001b[1;32m    450\u001b[0m \u001b[0;34m\u001b[0m\u001b[0m\n\u001b[1;32m    451\u001b[0m     \u001b[0;31m# Create the parser.\u001b[0m\u001b[0;34m\u001b[0m\u001b[0;34m\u001b[0m\u001b[0;34m\u001b[0m\u001b[0m\n\u001b[0;32m--> 452\u001b[0;31m     \u001b[0mparser\u001b[0m \u001b[0;34m=\u001b[0m \u001b[0mTextFileReader\u001b[0m\u001b[0;34m(\u001b[0m\u001b[0mfp_or_buf\u001b[0m\u001b[0;34m,\u001b[0m \u001b[0;34m**\u001b[0m\u001b[0mkwds\u001b[0m\u001b[0;34m)\u001b[0m\u001b[0;34m\u001b[0m\u001b[0;34m\u001b[0m\u001b[0m\n\u001b[0m\u001b[1;32m    453\u001b[0m \u001b[0;34m\u001b[0m\u001b[0m\n\u001b[1;32m    454\u001b[0m     \u001b[0;32mif\u001b[0m \u001b[0mchunksize\u001b[0m \u001b[0;32mor\u001b[0m \u001b[0miterator\u001b[0m\u001b[0;34m:\u001b[0m\u001b[0;34m\u001b[0m\u001b[0;34m\u001b[0m\u001b[0m\n",
            "\u001b[0;32m/usr/local/lib/python3.6/dist-packages/pandas/io/parsers.py\u001b[0m in \u001b[0;36m__init__\u001b[0;34m(self, f, engine, **kwds)\u001b[0m\n\u001b[1;32m    944\u001b[0m             \u001b[0mself\u001b[0m\u001b[0;34m.\u001b[0m\u001b[0moptions\u001b[0m\u001b[0;34m[\u001b[0m\u001b[0;34m\"has_index_names\"\u001b[0m\u001b[0;34m]\u001b[0m \u001b[0;34m=\u001b[0m \u001b[0mkwds\u001b[0m\u001b[0;34m[\u001b[0m\u001b[0;34m\"has_index_names\"\u001b[0m\u001b[0;34m]\u001b[0m\u001b[0;34m\u001b[0m\u001b[0;34m\u001b[0m\u001b[0m\n\u001b[1;32m    945\u001b[0m \u001b[0;34m\u001b[0m\u001b[0m\n\u001b[0;32m--> 946\u001b[0;31m         \u001b[0mself\u001b[0m\u001b[0;34m.\u001b[0m\u001b[0m_make_engine\u001b[0m\u001b[0;34m(\u001b[0m\u001b[0mself\u001b[0m\u001b[0;34m.\u001b[0m\u001b[0mengine\u001b[0m\u001b[0;34m)\u001b[0m\u001b[0;34m\u001b[0m\u001b[0;34m\u001b[0m\u001b[0m\n\u001b[0m\u001b[1;32m    947\u001b[0m \u001b[0;34m\u001b[0m\u001b[0m\n\u001b[1;32m    948\u001b[0m     \u001b[0;32mdef\u001b[0m \u001b[0mclose\u001b[0m\u001b[0;34m(\u001b[0m\u001b[0mself\u001b[0m\u001b[0;34m)\u001b[0m\u001b[0;34m:\u001b[0m\u001b[0;34m\u001b[0m\u001b[0;34m\u001b[0m\u001b[0m\n",
            "\u001b[0;32m/usr/local/lib/python3.6/dist-packages/pandas/io/parsers.py\u001b[0m in \u001b[0;36m_make_engine\u001b[0;34m(self, engine)\u001b[0m\n\u001b[1;32m   1176\u001b[0m     \u001b[0;32mdef\u001b[0m \u001b[0m_make_engine\u001b[0m\u001b[0;34m(\u001b[0m\u001b[0mself\u001b[0m\u001b[0;34m,\u001b[0m \u001b[0mengine\u001b[0m\u001b[0;34m=\u001b[0m\u001b[0;34m\"c\"\u001b[0m\u001b[0;34m)\u001b[0m\u001b[0;34m:\u001b[0m\u001b[0;34m\u001b[0m\u001b[0;34m\u001b[0m\u001b[0m\n\u001b[1;32m   1177\u001b[0m         \u001b[0;32mif\u001b[0m \u001b[0mengine\u001b[0m \u001b[0;34m==\u001b[0m \u001b[0;34m\"c\"\u001b[0m\u001b[0;34m:\u001b[0m\u001b[0;34m\u001b[0m\u001b[0;34m\u001b[0m\u001b[0m\n\u001b[0;32m-> 1178\u001b[0;31m             \u001b[0mself\u001b[0m\u001b[0;34m.\u001b[0m\u001b[0m_engine\u001b[0m \u001b[0;34m=\u001b[0m \u001b[0mCParserWrapper\u001b[0m\u001b[0;34m(\u001b[0m\u001b[0mself\u001b[0m\u001b[0;34m.\u001b[0m\u001b[0mf\u001b[0m\u001b[0;34m,\u001b[0m \u001b[0;34m**\u001b[0m\u001b[0mself\u001b[0m\u001b[0;34m.\u001b[0m\u001b[0moptions\u001b[0m\u001b[0;34m)\u001b[0m\u001b[0;34m\u001b[0m\u001b[0;34m\u001b[0m\u001b[0m\n\u001b[0m\u001b[1;32m   1179\u001b[0m         \u001b[0;32melse\u001b[0m\u001b[0;34m:\u001b[0m\u001b[0;34m\u001b[0m\u001b[0;34m\u001b[0m\u001b[0m\n\u001b[1;32m   1180\u001b[0m             \u001b[0;32mif\u001b[0m \u001b[0mengine\u001b[0m \u001b[0;34m==\u001b[0m \u001b[0;34m\"python\"\u001b[0m\u001b[0;34m:\u001b[0m\u001b[0;34m\u001b[0m\u001b[0;34m\u001b[0m\u001b[0m\n",
            "\u001b[0;32m/usr/local/lib/python3.6/dist-packages/pandas/io/parsers.py\u001b[0m in \u001b[0;36m__init__\u001b[0;34m(self, src, **kwds)\u001b[0m\n\u001b[1;32m   2006\u001b[0m         \u001b[0mkwds\u001b[0m\u001b[0;34m[\u001b[0m\u001b[0;34m\"usecols\"\u001b[0m\u001b[0;34m]\u001b[0m \u001b[0;34m=\u001b[0m \u001b[0mself\u001b[0m\u001b[0;34m.\u001b[0m\u001b[0musecols\u001b[0m\u001b[0;34m\u001b[0m\u001b[0;34m\u001b[0m\u001b[0m\n\u001b[1;32m   2007\u001b[0m \u001b[0;34m\u001b[0m\u001b[0m\n\u001b[0;32m-> 2008\u001b[0;31m         \u001b[0mself\u001b[0m\u001b[0;34m.\u001b[0m\u001b[0m_reader\u001b[0m \u001b[0;34m=\u001b[0m \u001b[0mparsers\u001b[0m\u001b[0;34m.\u001b[0m\u001b[0mTextReader\u001b[0m\u001b[0;34m(\u001b[0m\u001b[0msrc\u001b[0m\u001b[0;34m,\u001b[0m \u001b[0;34m**\u001b[0m\u001b[0mkwds\u001b[0m\u001b[0;34m)\u001b[0m\u001b[0;34m\u001b[0m\u001b[0;34m\u001b[0m\u001b[0m\n\u001b[0m\u001b[1;32m   2009\u001b[0m         \u001b[0mself\u001b[0m\u001b[0;34m.\u001b[0m\u001b[0munnamed_cols\u001b[0m \u001b[0;34m=\u001b[0m \u001b[0mself\u001b[0m\u001b[0;34m.\u001b[0m\u001b[0m_reader\u001b[0m\u001b[0;34m.\u001b[0m\u001b[0munnamed_cols\u001b[0m\u001b[0;34m\u001b[0m\u001b[0;34m\u001b[0m\u001b[0m\n\u001b[1;32m   2010\u001b[0m \u001b[0;34m\u001b[0m\u001b[0m\n",
            "\u001b[0;32mpandas/_libs/parsers.pyx\u001b[0m in \u001b[0;36mpandas._libs.parsers.TextReader.__cinit__\u001b[0;34m()\u001b[0m\n",
            "\u001b[0;32mpandas/_libs/parsers.pyx\u001b[0m in \u001b[0;36mpandas._libs.parsers.TextReader._setup_parser_source\u001b[0;34m()\u001b[0m\n",
            "\u001b[0;31mFileNotFoundError\u001b[0m: [Errno 2] No such file or directory: '../input/corona-virus-report/covid_19_clean_complete.csv'"
          ]
        }
      ]
    },
    {
      "cell_type": "code",
      "metadata": {
        "trusted": true,
        "_kg_hide-input": true,
        "_kg_hide-output": true,
        "id": "cVvD8OAMtAB7"
      },
      "source": [
        "# Grouped by day, country\n",
        "# =======================\n",
        "\n",
        "full_grouped = pd.read_csv('../input/corona-virus-report/full_grouped.csv')\n",
        "full_grouped['Date'] = pd.to_datetime(full_grouped['Date'])\n",
        "# full_grouped.head()"
      ],
      "execution_count": null,
      "outputs": []
    },
    {
      "cell_type": "code",
      "metadata": {
        "trusted": true,
        "_kg_hide-input": true,
        "_kg_hide-output": true,
        "id": "6PXAmz0xtAB_"
      },
      "source": [
        "# Day wise\n",
        "# ========\n",
        "\n",
        "day_wise = pd.read_csv('../input/corona-virus-report/day_wise.csv')\n",
        "day_wise['Date'] = pd.to_datetime(day_wise['Date'])\n",
        "# day_wise.head()"
      ],
      "execution_count": null,
      "outputs": []
    },
    {
      "cell_type": "code",
      "metadata": {
        "trusted": true,
        "_kg_hide-input": true,
        "_kg_hide-output": true,
        "id": "CwacA8VdtACB"
      },
      "source": [
        "# Country wise\n",
        "# ============\n",
        "\n",
        "country_wise = pd.read_csv('../input/corona-virus-report/country_wise_latest.csv')\n",
        "country_wise = country_wise.replace('', np.nan).fillna(0)\n",
        "# country_wise.head()"
      ],
      "execution_count": null,
      "outputs": []
    },
    {
      "cell_type": "code",
      "metadata": {
        "trusted": true,
        "_kg_hide-input": true,
        "_kg_hide-output": true,
        "id": "pQEL3NNKtACD"
      },
      "source": [
        "# Worldometer data\n",
        "# ================\n",
        "\n",
        "worldometer_data = pd.read_csv('../input/corona-virus-report/worldometer_data.csv')\n",
        "worldometer_data = worldometer_data.replace('', np.nan).fillna(0)\n",
        "# worldometer_data.head()"
      ],
      "execution_count": null,
      "outputs": []
    },
    {
      "cell_type": "markdown",
      "metadata": {
        "id": "Q1S099EetACF"
      },
      "source": [
        "# Latest"
      ]
    },
    {
      "cell_type": "code",
      "metadata": {
        "trusted": true,
        "_kg_hide-input": true,
        "id": "SUO8pNmatACG"
      },
      "source": [
        "temp = day_wise[['Date','Deaths', 'Recovered', 'Active']].tail(1)\n",
        "temp = temp.melt(id_vars=\"Date\", value_vars=['Active', 'Deaths', 'Recovered'])\n",
        "fig = px.treemap(temp, path=[\"variable\"], values=\"value\", height=225, \n",
        "                 color_discrete_sequence=[act, rec, dth])\n",
        "fig.data[0].textinfo = 'label+text+value'\n",
        "fig.show()"
      ],
      "execution_count": null,
      "outputs": []
    },
    {
      "cell_type": "markdown",
      "metadata": {
        "id": "6OpTvEpmtACI"
      },
      "source": [
        "# Maps"
      ]
    },
    {
      "cell_type": "code",
      "metadata": {
        "trusted": true,
        "_kg_hide-input": true,
        "id": "pCWk64S3tACI"
      },
      "source": [
        "def plot_map(df, col, pal):\n",
        "    df = df[df[col]>0]\n",
        "    fig = px.choropleth(df, locations=\"Country/Region\", locationmode='country names', \n",
        "                  color=col, hover_name=\"Country/Region\", \n",
        "                  title=col, hover_data=[col], color_continuous_scale=pal)\n",
        "#     fig.update_layout(coloraxis_showscale=False)\n",
        "    fig.show()"
      ],
      "execution_count": null,
      "outputs": []
    },
    {
      "cell_type": "code",
      "metadata": {
        "trusted": true,
        "_kg_hide-input": true,
        "id": "z24BYuR-tACK"
      },
      "source": [
        "plot_map(country_wise, 'Confirmed', 'matter')"
      ],
      "execution_count": null,
      "outputs": []
    },
    {
      "cell_type": "code",
      "metadata": {
        "trusted": true,
        "_kg_hide-input": true,
        "id": "_mIPq-ILtACM"
      },
      "source": [
        "plot_map(country_wise, 'Deaths', 'matter')"
      ],
      "execution_count": null,
      "outputs": []
    },
    {
      "cell_type": "code",
      "metadata": {
        "trusted": true,
        "_kg_hide-input": true,
        "id": "d_sxm7cntACO"
      },
      "source": [
        "plot_map(country_wise, 'Deaths / 100 Cases', 'matter')"
      ],
      "execution_count": null,
      "outputs": []
    },
    {
      "cell_type": "code",
      "metadata": {
        "trusted": true,
        "_kg_hide-input": true,
        "id": "_hGCN7F3tACQ"
      },
      "source": [
        "# Over the time\n",
        "\n",
        "fig = px.choropleth(full_grouped, locations=\"Country/Region\", \n",
        "                    color=np.log(full_grouped[\"Confirmed\"]),\n",
        "                    locationmode='country names', hover_name=\"Country/Region\", \n",
        "                    animation_frame=full_grouped[\"Date\"].dt.strftime('%Y-%m-%d'),\n",
        "                    title='Cases over time', color_continuous_scale=px.colors.sequential.matter)\n",
        "fig.update(layout_coloraxis_showscale=False)\n",
        "fig.show()"
      ],
      "execution_count": null,
      "outputs": []
    },
    {
      "cell_type": "markdown",
      "metadata": {
        "id": "UvMN1OX3tACS"
      },
      "source": [
        "# Cases over the time"
      ]
    },
    {
      "cell_type": "code",
      "metadata": {
        "trusted": true,
        "_kg_hide-input": true,
        "id": "GYNiVm7mtACS"
      },
      "source": [
        "def plot_daywise(col, hue):\n",
        "    fig = px.bar(day_wise, x=\"Date\", y=col, width=700, color_discrete_sequence=[hue])\n",
        "    fig.update_layout(title=col, xaxis_title=\"\", yaxis_title=\"\")\n",
        "    fig.show()"
      ],
      "execution_count": null,
      "outputs": []
    },
    {
      "cell_type": "code",
      "metadata": {
        "trusted": true,
        "_kg_hide-input": true,
        "id": "TaxKIm59tACV"
      },
      "source": [
        "def plot_daywise_line(col, hue):\n",
        "    fig = px.line(day_wise, x=\"Date\", y=col, width=700, color_discrete_sequence=[hue])\n",
        "    fig.update_layout(title=col, xaxis_title=\"\", yaxis_title=\"\")\n",
        "    fig.show()"
      ],
      "execution_count": null,
      "outputs": []
    },
    {
      "cell_type": "code",
      "metadata": {
        "trusted": true,
        "_kg_hide-input": true,
        "id": "Lk8E6sZPtACY"
      },
      "source": [
        "temp = full_grouped.groupby('Date')['Recovered', 'Deaths', 'Active'].sum().reset_index()\n",
        "temp = temp.melt(id_vars=\"Date\", value_vars=['Recovered', 'Deaths', 'Active'],\n",
        "                 var_name='Case', value_name='Count')\n",
        "temp.head()\n",
        "\n",
        "fig = px.area(temp, x=\"Date\", y=\"Count\", color='Case', height=600, width=700,\n",
        "             title='Cases over time', color_discrete_sequence = [rec, dth, act])\n",
        "fig.update_layout(xaxis_rangeslider_visible=True)\n",
        "fig.show()"
      ],
      "execution_count": null,
      "outputs": []
    },
    {
      "cell_type": "code",
      "metadata": {
        "trusted": true,
        "_kg_hide-input": true,
        "id": "lY0r6erGtACc"
      },
      "source": [
        "plot_daywise('Confirmed', '#333333')"
      ],
      "execution_count": null,
      "outputs": []
    },
    {
      "cell_type": "code",
      "metadata": {
        "trusted": true,
        "_kg_hide-input": true,
        "id": "RvzjNeqNtACd"
      },
      "source": [
        "plot_daywise('Active', '#333333')"
      ],
      "execution_count": null,
      "outputs": []
    },
    {
      "cell_type": "code",
      "metadata": {
        "trusted": true,
        "_kg_hide-input": true,
        "id": "YbFmbzVqtACf"
      },
      "source": [
        "plot_daywise('New cases', '#333333')"
      ],
      "execution_count": null,
      "outputs": []
    },
    {
      "cell_type": "code",
      "metadata": {
        "trusted": true,
        "_kg_hide-input": true,
        "id": "8stpWZZWtACh"
      },
      "source": [
        "plot_daywise('Deaths', dth)"
      ],
      "execution_count": null,
      "outputs": []
    },
    {
      "cell_type": "code",
      "metadata": {
        "trusted": true,
        "_kg_hide-input": true,
        "id": "REWMRNU-tACj"
      },
      "source": [
        "plot_daywise('New deaths', dth)"
      ],
      "execution_count": null,
      "outputs": []
    },
    {
      "cell_type": "code",
      "metadata": {
        "trusted": true,
        "_kg_hide-input": true,
        "id": "IALKHE1HtACl"
      },
      "source": [
        "plot_daywise('Recovered', rec)"
      ],
      "execution_count": null,
      "outputs": []
    },
    {
      "cell_type": "code",
      "metadata": {
        "trusted": true,
        "_kg_hide-input": true,
        "id": "S5lvs1tEtACn"
      },
      "source": [
        "plot_daywise('New recovered', rec)"
      ],
      "execution_count": null,
      "outputs": []
    },
    {
      "cell_type": "code",
      "metadata": {
        "trusted": true,
        "_kg_hide-input": true,
        "id": "6zSZ3OkvtACo"
      },
      "source": [
        "plot_daywise_line('Deaths / 100 Cases', dth)"
      ],
      "execution_count": null,
      "outputs": []
    },
    {
      "cell_type": "code",
      "metadata": {
        "trusted": true,
        "_kg_hide-input": true,
        "id": "OFNrOHtgtACq"
      },
      "source": [
        "plot_daywise_line('Deaths / 100 Recovered', dth)"
      ],
      "execution_count": null,
      "outputs": []
    },
    {
      "cell_type": "code",
      "metadata": {
        "trusted": true,
        "_kg_hide-input": true,
        "id": "xgcE9GHItACs"
      },
      "source": [
        "plot_daywise_line('Recovered / 100 Cases', rec)"
      ],
      "execution_count": null,
      "outputs": []
    },
    {
      "cell_type": "code",
      "metadata": {
        "trusted": true,
        "_kg_hide-input": true,
        "id": "2QYzayfztACt"
      },
      "source": [
        "plot_daywise('No. of countries', '#035aa6')"
      ],
      "execution_count": null,
      "outputs": []
    },
    {
      "cell_type": "code",
      "metadata": {
        "_kg_hide-input": true,
        "trusted": true,
        "id": "39nmJJ15tACv"
      },
      "source": [
        "temp = day_wise[['Date', 'Recovered', 'Active']]\n",
        "temp = temp.melt(id_vars='Date', value_vars=['Recovered', 'Active'], \n",
        "                 var_name='Variable', value_name='Count')\n",
        "px.line(temp, x='Date', y='Count', color='Variable')"
      ],
      "execution_count": null,
      "outputs": []
    },
    {
      "cell_type": "markdown",
      "metadata": {
        "id": "u4J81Y3mtACx"
      },
      "source": [
        "# Top 20 Countries"
      ]
    },
    {
      "cell_type": "code",
      "metadata": {
        "trusted": true,
        "_kg_hide-input": true,
        "id": "SoSXFlhotACx"
      },
      "source": [
        "def plot_hbar(df, col, n, hover_data=[]):\n",
        "    fig = px.bar(df.sort_values(col).tail(n), \n",
        "                 x=col, y=\"Country/Region\", color='WHO Region',  \n",
        "                 text=col, orientation='h', width=700, hover_data=hover_data,\n",
        "                 color_discrete_sequence = px.colors.qualitative.Dark2)\n",
        "    fig.update_layout(title=col, xaxis_title=\"\", yaxis_title=\"\", \n",
        "                      yaxis_categoryorder = 'total ascending',\n",
        "                      uniformtext_minsize=8, uniformtext_mode='hide')\n",
        "    fig.show()"
      ],
      "execution_count": null,
      "outputs": []
    },
    {
      "cell_type": "code",
      "metadata": {
        "trusted": true,
        "_kg_hide-input": true,
        "id": "mRr86dVZtACz"
      },
      "source": [
        "def plot_hbar_wm(col, n, min_pop=1000000, sort='descending'):\n",
        "    df = worldometer_data[worldometer_data['Population']>min_pop]\n",
        "    df = df.sort_values(col, ascending=True).tail(n)\n",
        "    fig = px.bar(df,\n",
        "                 x=col, y=\"Country/Region\", color='WHO Region',  \n",
        "                 text=col, orientation='h', width=700, \n",
        "                 color_discrete_sequence = px.colors.qualitative.Dark2)\n",
        "    fig.update_layout(title=col+' (Only countries with > 1M Pop)', \n",
        "                      xaxis_title=\"\", yaxis_title=\"\", \n",
        "                      yaxis_categoryorder = 'total ascending',\n",
        "                      uniformtext_minsize=8, uniformtext_mode='hide')\n",
        "    fig.show()"
      ],
      "execution_count": null,
      "outputs": []
    },
    {
      "cell_type": "code",
      "metadata": {
        "trusted": true,
        "_kg_hide-input": true,
        "id": "c6Mvpkg8tAC1"
      },
      "source": [
        "plot_hbar(country_wise, 'Confirmed', 15)"
      ],
      "execution_count": null,
      "outputs": []
    },
    {
      "cell_type": "code",
      "metadata": {
        "trusted": true,
        "_kg_hide-input": true,
        "id": "6JsN7pXDtAC4"
      },
      "source": [
        "plot_hbar(country_wise, 'Active', 15)"
      ],
      "execution_count": null,
      "outputs": []
    },
    {
      "cell_type": "code",
      "metadata": {
        "trusted": true,
        "_kg_hide-input": true,
        "id": "eHv-5gCFtAC6"
      },
      "source": [
        "plot_hbar(country_wise, 'New cases', 15)"
      ],
      "execution_count": null,
      "outputs": []
    },
    {
      "cell_type": "code",
      "metadata": {
        "trusted": true,
        "_kg_hide-input": true,
        "id": "l_qWd_kZtAC8"
      },
      "source": [
        "plot_hbar(country_wise, 'Deaths', 15)"
      ],
      "execution_count": null,
      "outputs": []
    },
    {
      "cell_type": "code",
      "metadata": {
        "trusted": true,
        "_kg_hide-input": true,
        "id": "egx81h_KtAC-"
      },
      "source": [
        "plot_hbar(country_wise, 'New deaths', 15)"
      ],
      "execution_count": null,
      "outputs": []
    },
    {
      "cell_type": "code",
      "metadata": {
        "trusted": true,
        "_kg_hide-input": true,
        "id": "7xi_apFTtADA"
      },
      "source": [
        "plot_hbar(country_wise, 'Deaths / 100 Cases', 15)"
      ],
      "execution_count": null,
      "outputs": []
    },
    {
      "cell_type": "code",
      "metadata": {
        "trusted": true,
        "_kg_hide-input": true,
        "id": "ca1aDWqWtADD"
      },
      "source": [
        "plot_hbar(country_wise, 'Recovered', 15)"
      ],
      "execution_count": null,
      "outputs": []
    },
    {
      "cell_type": "code",
      "metadata": {
        "trusted": true,
        "_kg_hide-input": true,
        "id": "fUuKEbTCtADF"
      },
      "source": [
        "plot_hbar(country_wise, 'New recovered', 15)"
      ],
      "execution_count": null,
      "outputs": []
    },
    {
      "cell_type": "code",
      "metadata": {
        "trusted": true,
        "_kg_hide-input": true,
        "id": "SkEjc4DZtADG"
      },
      "source": [
        "plot_hbar(country_wise, 'Recovered / 100 Cases', 15)"
      ],
      "execution_count": null,
      "outputs": []
    },
    {
      "cell_type": "code",
      "metadata": {
        "trusted": true,
        "_kg_hide-input": true,
        "id": "8ea3sy7JtADI"
      },
      "source": [
        "plot_hbar(country_wise, '1 week change', 15)"
      ],
      "execution_count": null,
      "outputs": []
    },
    {
      "cell_type": "code",
      "metadata": {
        "trusted": true,
        "_kg_hide-input": true,
        "id": "Q7UuDXTCtADK"
      },
      "source": [
        "plot_hbar(country_wise, '1 week % increase', 15)"
      ],
      "execution_count": null,
      "outputs": []
    },
    {
      "cell_type": "code",
      "metadata": {
        "trusted": true,
        "_kg_hide-input": true,
        "id": "8e69lEpWtADM"
      },
      "source": [
        "plot_hbar_wm('Tot Cases/1M pop', 15, 1000000)"
      ],
      "execution_count": null,
      "outputs": []
    },
    {
      "cell_type": "code",
      "metadata": {
        "trusted": true,
        "_kg_hide-input": true,
        "id": "bRNQ_IwotADQ"
      },
      "source": [
        "plot_hbar_wm('Deaths/1M pop', 15, 1000000)"
      ],
      "execution_count": null,
      "outputs": []
    },
    {
      "cell_type": "code",
      "metadata": {
        "trusted": true,
        "_kg_hide-input": true,
        "id": "PVVVqhkntADS"
      },
      "source": [
        "plot_hbar_wm('TotalTests', 15, 1000000)"
      ],
      "execution_count": null,
      "outputs": []
    },
    {
      "cell_type": "code",
      "metadata": {
        "trusted": true,
        "_kg_hide-input": true,
        "id": "Zp4CjyAUtADY"
      },
      "source": [
        "plot_hbar_wm('Tests/1M pop', 15)"
      ],
      "execution_count": null,
      "outputs": []
    },
    {
      "cell_type": "markdown",
      "metadata": {
        "id": "2vy5Q7ZLtADa"
      },
      "source": [
        "# Date vs"
      ]
    },
    {
      "cell_type": "code",
      "metadata": {
        "trusted": true,
        "_kg_hide-input": true,
        "id": "5U4tfjYTtADa"
      },
      "source": [
        "def plot_stacked(col):\n",
        "    fig = px.bar(full_grouped, x=\"Date\", y=col, color='Country/Region', \n",
        "                 height=600, title=col, \n",
        "                 color_discrete_sequence = px.colors.cyclical.mygbm)\n",
        "    fig.update_layout(showlegend=True)\n",
        "    fig.show()"
      ],
      "execution_count": null,
      "outputs": []
    },
    {
      "cell_type": "code",
      "metadata": {
        "trusted": true,
        "_kg_hide-input": true,
        "id": "HphORMs3tADc"
      },
      "source": [
        "def plot_line(col):\n",
        "    fig = px.line(full_grouped, x=\"Date\", y=col, color='Country/Region', \n",
        "                  height=600, title=col, \n",
        "                  color_discrete_sequence = px.colors.cyclical.mygbm)\n",
        "    fig.update_layout(showlegend=True)\n",
        "    fig.show()"
      ],
      "execution_count": null,
      "outputs": []
    },
    {
      "cell_type": "code",
      "metadata": {
        "trusted": true,
        "_kg_hide-input": true,
        "id": "iWXTJfgrtADd"
      },
      "source": [
        "plot_stacked('Confirmed')"
      ],
      "execution_count": null,
      "outputs": []
    },
    {
      "cell_type": "code",
      "metadata": {
        "trusted": true,
        "_kg_hide-input": true,
        "id": "eWnZetW_tADe"
      },
      "source": [
        "plot_stacked('Deaths')"
      ],
      "execution_count": null,
      "outputs": []
    },
    {
      "cell_type": "code",
      "metadata": {
        "trusted": true,
        "_kg_hide-input": true,
        "id": "5odezpC7tADg"
      },
      "source": [
        "plot_stacked('New cases')"
      ],
      "execution_count": null,
      "outputs": []
    },
    {
      "cell_type": "code",
      "metadata": {
        "trusted": true,
        "id": "JdhqPzFetADi"
      },
      "source": [
        "plot_stacked('Active')"
      ],
      "execution_count": null,
      "outputs": []
    },
    {
      "cell_type": "code",
      "metadata": {
        "trusted": true,
        "_kg_hide-input": true,
        "id": "PZtrg6p2tADj"
      },
      "source": [
        "plot_line('Confirmed')"
      ],
      "execution_count": null,
      "outputs": []
    },
    {
      "cell_type": "code",
      "metadata": {
        "trusted": true,
        "_kg_hide-input": true,
        "id": "wV129qUStADl"
      },
      "source": [
        "plot_line('Deaths')"
      ],
      "execution_count": null,
      "outputs": []
    },
    {
      "cell_type": "code",
      "metadata": {
        "trusted": true,
        "_kg_hide-input": true,
        "id": "AKsTzHH9tADm"
      },
      "source": [
        "plot_line('New cases')"
      ],
      "execution_count": null,
      "outputs": []
    },
    {
      "cell_type": "code",
      "metadata": {
        "trusted": true,
        "id": "x_toGn-_tADo"
      },
      "source": [
        "plot_line('Active')"
      ],
      "execution_count": null,
      "outputs": []
    },
    {
      "cell_type": "code",
      "metadata": {
        "trusted": true,
        "_kg_hide-input": true,
        "id": "-6wU3A_BtADq"
      },
      "source": [
        "temp = pd.merge(full_grouped[['Date', 'Country/Region', 'Confirmed', 'Deaths']], \n",
        "                day_wise[['Date', 'Confirmed', 'Deaths']], on='Date')\n",
        "temp['% Confirmed'] = round(temp['Confirmed_x']/temp['Confirmed_y'], 3)*100\n",
        "temp['% Deaths'] = round(temp['Deaths_x']/temp['Deaths_y'], 3)*100\n",
        "temp.head()"
      ],
      "execution_count": null,
      "outputs": []
    },
    {
      "cell_type": "code",
      "metadata": {
        "trusted": true,
        "_kg_hide-input": true,
        "id": "MjO_BXp8tADr"
      },
      "source": [
        "fig = px.bar(temp, x='Date', y='% Confirmed', color='Country/Region', \n",
        "             range_y=(0, 100), title='% of Cases from each country', \n",
        "             color_discrete_sequence=px.colors.qualitative.Prism)\n",
        "fig.show()"
      ],
      "execution_count": null,
      "outputs": []
    },
    {
      "cell_type": "code",
      "metadata": {
        "_kg_hide-input": true,
        "trusted": true,
        "id": "lhVI8MTMtADt"
      },
      "source": [
        "fig = px.bar(temp, x='Date', y='% Deaths', color='Country/Region', \n",
        "             range_y=(0, 100), title='% of Cases from each country', \n",
        "             color_discrete_sequence=px.colors.qualitative.Prism)\n",
        "fig.show()"
      ],
      "execution_count": null,
      "outputs": []
    },
    {
      "cell_type": "markdown",
      "metadata": {
        "id": "VLn2dgv5tADu"
      },
      "source": [
        "# Graph after 1M cases"
      ]
    },
    {
      "cell_type": "code",
      "metadata": {
        "trusted": true,
        "_kg_hide-input": true,
        "id": "oH1GaivjtADu"
      },
      "source": [
        "def gt_n(n):\n",
        "    countries = full_grouped[full_grouped['Confirmed']>n]['Country/Region'].unique()\n",
        "    temp = full_table[full_table['Country/Region'].isin(countries)]\n",
        "    temp = temp.groupby(['Country/Region', 'Date'])['Confirmed'].sum().reset_index()\n",
        "    temp = temp[temp['Confirmed']>n]\n",
        "    # print(temp.head())\n",
        "\n",
        "    min_date = temp.groupby('Country/Region')['Date'].min().reset_index()\n",
        "    min_date.columns = ['Country/Region', 'Min Date']\n",
        "    # print(min_date.head())\n",
        "\n",
        "    from_nth_case = pd.merge(temp, min_date, on='Country/Region')\n",
        "    from_nth_case['Date'] = pd.to_datetime(from_nth_case['Date'])\n",
        "    from_nth_case['Min Date'] = pd.to_datetime(from_nth_case['Min Date'])\n",
        "    from_nth_case['N days'] = (from_nth_case['Date'] - from_nth_case['Min Date']).dt.days\n",
        "    # print(from_nth_case.head())\n",
        "\n",
        "    fig = px.line(from_nth_case, x='N days', y='Confirmed', color='Country/Region', \n",
        "                  title='N days from '+str(n)+' case', height=600)\n",
        "    fig.show()"
      ],
      "execution_count": null,
      "outputs": []
    },
    {
      "cell_type": "code",
      "metadata": {
        "trusted": true,
        "_kg_hide-input": true,
        "id": "miwuJAjFtADw"
      },
      "source": [
        "gt_n(100000)"
      ],
      "execution_count": null,
      "outputs": []
    },
    {
      "cell_type": "markdown",
      "metadata": {
        "id": "xtviXuPbtADz"
      },
      "source": [
        "# Confirmed vs Deaths"
      ]
    },
    {
      "cell_type": "code",
      "metadata": {
        "trusted": true,
        "_kg_hide-input": true,
        "id": "q4Zz_bVetADz"
      },
      "source": [
        "fig = px.scatter(country_wise.sort_values('Deaths', ascending=False).iloc[:20, :], \n",
        "                 x='Confirmed', y='Deaths', color='Country/Region', size='Confirmed', \n",
        "                 height=700, text='Country/Region', log_x=True, log_y=True, \n",
        "                 title='Deaths vs Confirmed (Scale is in log10)')\n",
        "fig.update_traces(textposition='top center')\n",
        "fig.update_layout(showlegend=False)\n",
        "fig.update_layout(xaxis_rangeslider_visible=True)\n",
        "fig.show()"
      ],
      "execution_count": null,
      "outputs": []
    },
    {
      "cell_type": "markdown",
      "metadata": {
        "id": "LtkJBFGbtAD1"
      },
      "source": [
        "# Composition of Cases"
      ]
    },
    {
      "cell_type": "code",
      "metadata": {
        "trusted": true,
        "id": "5eGTVPZYtAD1"
      },
      "source": [
        "def plot_treemap(col):\n",
        "    fig = px.treemap(country_wise, path=[\"Country/Region\"], values=col, height=700,\n",
        "                 title=col, color_discrete_sequence = px.colors.qualitative.Dark2)\n",
        "    fig.data[0].textinfo = 'label+text+value'\n",
        "    fig.show()"
      ],
      "execution_count": null,
      "outputs": []
    },
    {
      "cell_type": "code",
      "metadata": {
        "trusted": true,
        "id": "BtGYKGgCtAD3"
      },
      "source": [
        "plot_treemap('Confirmed')"
      ],
      "execution_count": null,
      "outputs": []
    },
    {
      "cell_type": "code",
      "metadata": {
        "trusted": true,
        "id": "CbpHcdW7tAD4"
      },
      "source": [
        "plot_treemap('Deaths')"
      ],
      "execution_count": null,
      "outputs": []
    },
    {
      "cell_type": "markdown",
      "metadata": {
        "id": "NRWIBqlNtAD5"
      },
      "source": [
        "# Bubble Plot"
      ]
    },
    {
      "cell_type": "code",
      "metadata": {
        "_kg_hide-input": true,
        "trusted": true,
        "id": "UTDhIv7ltAD6"
      },
      "source": [
        "def plot_bubble(col, pal):\n",
        "    temp = full_grouped[full_grouped[col]>0].sort_values('Country/Region', ascending=False)\n",
        "    fig = px.scatter(temp, x='Date', y='Country/Region', size=col, color=col, height=3000,\n",
        "                    color_continuous_scale=pal)\n",
        "    fig.update_layout(yaxis = dict(dtick = 1))\n",
        "    fig.update(layout_coloraxis_showscale=False)\n",
        "    fig.show()"
      ],
      "execution_count": null,
      "outputs": []
    },
    {
      "cell_type": "code",
      "metadata": {
        "_kg_hide-input": true,
        "trusted": true,
        "id": "-YE42Y9xtAD9"
      },
      "source": [
        "plot_bubble('New cases', 'Viridis')"
      ],
      "execution_count": null,
      "outputs": []
    },
    {
      "cell_type": "code",
      "metadata": {
        "_kg_hide-input": true,
        "trusted": true,
        "id": "BR6TLizStAD-"
      },
      "source": [
        "plot_bubble('Active', 'Viridis')"
      ],
      "execution_count": null,
      "outputs": []
    },
    {
      "cell_type": "markdown",
      "metadata": {
        "id": "FojUHPgVtAEB"
      },
      "source": [
        "# Epidemic Span"
      ]
    },
    {
      "cell_type": "code",
      "metadata": {
        "_kg_hide-input": true,
        "trusted": true,
        "id": "sD0dWygGtAEC"
      },
      "source": [
        "temp = full_grouped[['Date', 'Country/Region', 'New cases']]\n",
        "temp['New cases reported ?'] = temp['New cases']!=0\n",
        "temp['New cases reported ?'] = temp['New cases reported ?'].astype(int)\n",
        "# temp.head()"
      ],
      "execution_count": null,
      "outputs": []
    },
    {
      "cell_type": "code",
      "metadata": {
        "_kg_hide-input": true,
        "trusted": true,
        "id": "lClTGZVItAED"
      },
      "source": [
        "fig = go.Figure(data=go.Heatmap(\n",
        "        z=temp['New cases reported ?'],\n",
        "        x=temp['Date'],\n",
        "        y=temp['Country/Region'],\n",
        "        colorscale='Emrld',\n",
        "        showlegend=False,\n",
        "        text=temp['New cases reported ?']))\n",
        "\n",
        "fig.update_layout(yaxis = dict(dtick = 1))\n",
        "fig.update_layout(height=3000)\n",
        "fig.show()"
      ],
      "execution_count": null,
      "outputs": []
    },
    {
      "cell_type": "markdown",
      "metadata": {
        "trusted": true,
        "_kg_hide-input": true,
        "id": "WLK4TO0TtAEF"
      },
      "source": [
        "# Running Bar Chart"
      ]
    },
    {
      "cell_type": "markdown",
      "metadata": {
        "id": "il3gxgK4tAEF"
      },
      "source": [
        "https://app.flourish.studio/visualisation/1571387/edit\n",
        "\n"
      ]
    },
    {
      "cell_type": "code",
      "metadata": {
        "trusted": true,
        "id": "ERgYQIG8tAEF"
      },
      "source": [
        "# HTML('''<div class=\"flourish-embed flourish-bar-chart-race\" data-src=\"visualisation/1571387\"><script src=\"https://public.flourish.studio/resources/embed.js\"></script></div>''')"
      ],
      "execution_count": null,
      "outputs": []
    },
    {
      "cell_type": "markdown",
      "metadata": {
        "id": "KopKoo8UtAEI"
      },
      "source": [
        "# Country Wise"
      ]
    },
    {
      "cell_type": "code",
      "metadata": {
        "_kg_hide-input": true,
        "trusted": true,
        "id": "LImiXGtYtAEI"
      },
      "source": [
        "# temp = full_table.groupby(['Country/Region', 'Date', ])['Confirmed', 'Deaths']\n",
        "# temp = temp.sum().diff().reset_index()\n",
        "\n",
        "# mask = temp['Country/Region'] != temp['Country/Region'].shift(1)\n",
        "\n",
        "# temp.loc[mask, 'Confirmed'] = np.nan\n",
        "# temp.loc[mask, 'Deaths'] = np.nan\n",
        "\n",
        "# countries = full_table[full_table['Confirmed']>100000]['Country/Region'].unique()\n",
        "\n",
        "# temp = temp[temp['Country/Region'].isin(countries)]\n",
        "\n",
        "\n",
        "# n_cols = 3\n",
        "# n_rows = math.ceil(len(countries)/n_cols)\n",
        "\n",
        "# fig = make_subplots(rows=n_rows, cols=n_cols, shared_xaxes=False, subplot_titles=countries)\n",
        "\n",
        "# for ind, country in enumerate(countries):\n",
        "#     row = int((ind/n_cols)+1)\n",
        "#     col = int((ind%n_cols)+1)\n",
        "#     fig.add_trace(go.Bar(x=temp['Date'], y=temp.loc[temp['Country/Region']==country, 'Confirmed'], name=country), row=row, col=col)\n",
        "    \n",
        "# fig.update_layout(height=4000, title_text=\"No. of new cases in each Country\")\n",
        "# fig.update_layout(showlegend=False)\n",
        "# fig.show()"
      ],
      "execution_count": null,
      "outputs": []
    },
    {
      "cell_type": "markdown",
      "metadata": {
        "id": "G-W8LV4ptAEL"
      },
      "source": [
        "# Comparison with similar epidemics"
      ]
    },
    {
      "cell_type": "markdown",
      "metadata": {
        "id": "h88f-7jPtAEL"
      },
      "source": [
        "https://www.kaggle.com/imdevskp/covid19-vs-sars-vs-mers-vs-ebola-vs-h1n1\n",
        "\n"
      ]
    },
    {
      "cell_type": "markdown",
      "metadata": {
        "id": "IrrJQ1VqtAEM"
      },
      "source": [
        "# Analysis on similar pandemic/epidemic/outbreak"
      ]
    },
    {
      "cell_type": "markdown",
      "metadata": {
        "id": "BFzFp7BEtAEM"
      },
      "source": [
        "https://www.kaggle.com/imdevskp/mers-outbreak-analysis  \n",
        "https://www.kaggle.com/imdevskp/sars-2003-outbreak-analysis  \n",
        "https://www.kaggle.com/imdevskp/western-africa-ebola-outbreak-analysis\n"
      ]
    },
    {
      "cell_type": "markdown",
      "metadata": {
        "id": "mm8Jr3vjtAEM"
      },
      "source": [
        "# USA"
      ]
    },
    {
      "cell_type": "code",
      "metadata": {
        "trusted": true,
        "id": "ogrn_z_PtAEM"
      },
      "source": [
        "usa_df = pd.read_csv('../input/corona-virus-report/usa_county_wise.csv')\n",
        "usa_latest = usa_df[usa_df['Date'] == max(usa_df['Date'])]\n",
        "usa_grouped = usa_latest.groupby('Province_State')['Confirmed', 'Deaths'].sum().reset_index()"
      ],
      "execution_count": null,
      "outputs": []
    },
    {
      "cell_type": "code",
      "metadata": {
        "_kg_hide-input": true,
        "trusted": true,
        "id": "mKTLwkwstAEO"
      },
      "source": [
        "us_code = {'Alabama': 'AL', 'Alaska': 'AK', 'American Samoa': 'AS', 'Arizona': 'AZ', 'Arkansas': 'AR', \n",
        "    'California': 'CA','Colorado': 'CO','Connecticut': 'CT','Delaware': 'DE', 'District of Columbia': 'DC', \n",
        "    'Florida': 'FL', 'Georgia': 'GA', 'Guam': 'GU', 'Hawaii': 'HI', 'Idaho': 'ID', 'Illinois': 'IL',\n",
        "    'Indiana': 'IN','Iowa': 'IA','Kansas': 'KS','Kentucky': 'KY','Louisiana': 'LA','Maine': 'ME',\n",
        "    'Maryland': 'MD','Massachusetts': 'MA','Michigan': 'MI','Minnesota': 'MN','Mississippi': 'MS',\n",
        "    'Missouri': 'MO','Montana': 'MT','Nebraska': 'NE','Nevada': 'NV','New Hampshire': 'NH', 'New Jersey': 'NJ',\n",
        "    'New Mexico': 'NM', 'New York': 'NY', 'North Carolina': 'NC', 'North Dakota': 'ND', 'Northern Mariana Islands':'MP',\n",
        "    'Ohio': 'OH', 'Oklahoma': 'OK', 'Oregon': 'OR', 'Pennsylvania': 'PA', 'Puerto Rico': 'PR',\n",
        "    'Rhode Island': 'RI', 'South Carolina': 'SC', 'South Dakota': 'SD', 'Tennessee': 'TN', 'Texas': 'TX',\n",
        "    'Utah': 'UT', 'Vermont': 'VT', 'Virgin Islands': 'VI', 'Virginia': 'VA', 'Washington': 'WA',\n",
        "    'West Virginia': 'WV', 'Wisconsin': 'WI', 'Wyoming': 'WY'}\n",
        "\n",
        "usa_grouped['Code'] = usa_grouped['Province_State'].map(us_code)"
      ],
      "execution_count": null,
      "outputs": []
    },
    {
      "cell_type": "code",
      "metadata": {
        "trusted": true,
        "id": "itzRwEYwtAEP"
      },
      "source": [
        "fig = px.choropleth(usa_grouped, color='Confirmed', locations='Code', locationmode=\"USA-states\", \n",
        "                    scope=\"usa\", color_continuous_scale=\"RdGy\", title='No. of cases in USA')\n",
        "fig"
      ],
      "execution_count": null,
      "outputs": []
    },
    {
      "cell_type": "code",
      "metadata": {
        "trusted": true,
        "id": "ieTyH-aQtAEQ"
      },
      "source": [
        "# with urlopen('https://raw.githubusercontent.com/plotly/datasets/master/geojson-counties-fips.json') as response:\n",
        "#     counties = json.load(response)\n",
        "\n",
        "# fig = px.choropleth(usa_latest, geojson=counties, locations='FIPS', color='Confirmed',\n",
        "#                            color_continuous_scale=\"Peach\",\n",
        "#                            scope=\"usa\",\n",
        "#                            labels={'Confirmed':'Confirmed'})\n",
        "# fig.update_layout(margin={\"r\":0,\"t\":0,\"l\":0,\"b\":0})\n",
        "# fig.show()"
      ],
      "execution_count": null,
      "outputs": []
    },
    {
      "cell_type": "markdown",
      "metadata": {
        "id": "cmkrv2lttAES"
      },
      "source": [
        "# WHO Region Wise"
      ]
    },
    {
      "cell_type": "markdown",
      "metadata": {
        "id": "lk-lACKbtAES"
      },
      "source": [
        "> *https://en.wikipedia.org/wiki/WHO_regions*"
      ]
    },
    {
      "cell_type": "code",
      "metadata": {
        "trusted": true,
        "_kg_hide-input": true,
        "id": "_Ekogk6NtAES"
      },
      "source": [
        "who = country_wise.groupby('WHO Region')['Confirmed', 'Deaths', 'Recovered', 'Active',\n",
        "                                         'New cases', 'Confirmed last week'].sum().reset_index()\n",
        "who['Fatality Rate'] = round((who['Deaths'] / who['Confirmed']) * 100, 2)\n",
        "who['Recovery Rate'] = (who['Recovered'] / who['Confirmed']) * 100\n",
        "\n",
        "who_g = full_grouped.groupby(['WHO Region', 'Date'])['Confirmed', 'Deaths', 'Recovered', \n",
        "                                                     'Active','New cases', 'New deaths'].sum().reset_index()"
      ],
      "execution_count": null,
      "outputs": []
    },
    {
      "cell_type": "code",
      "metadata": {
        "_kg_hide-input": true,
        "trusted": true,
        "id": "nlME6mmrtAET"
      },
      "source": [
        "def plot_hbar(col, hover_data=[]):\n",
        "    fig = px.bar(who.sort_values(col), \n",
        "                 x=col, y=\"WHO Region\", color='WHO Region',  \n",
        "                 text=col, orientation='h', width=700, hover_data=hover_data,\n",
        "                 color_discrete_sequence = px.colors.qualitative.Dark2)\n",
        "    fig.update_layout(title=col, xaxis_title=\"\", yaxis_title=\"\", \n",
        "                      yaxis_categoryorder = 'total ascending',\n",
        "                      uniformtext_minsize=8, uniformtext_mode='hide')\n",
        "    fig.show()"
      ],
      "execution_count": null,
      "outputs": []
    },
    {
      "cell_type": "code",
      "metadata": {
        "_kg_hide-input": true,
        "trusted": true,
        "id": "KSc6hwygtAEU"
      },
      "source": [
        "plot_hbar('Confirmed')"
      ],
      "execution_count": null,
      "outputs": []
    },
    {
      "cell_type": "code",
      "metadata": {
        "_kg_hide-input": true,
        "trusted": true,
        "id": "BnGzSbRHtAEW"
      },
      "source": [
        "plot_hbar('Deaths')"
      ],
      "execution_count": null,
      "outputs": []
    },
    {
      "cell_type": "code",
      "metadata": {
        "_kg_hide-input": true,
        "trusted": true,
        "id": "nNfaZ6FEtAEX"
      },
      "source": [
        "plot_hbar('Fatality Rate')"
      ],
      "execution_count": null,
      "outputs": []
    },
    {
      "cell_type": "code",
      "metadata": {
        "_kg_hide-input": true,
        "trusted": true,
        "id": "UrJMn-cNtAEZ"
      },
      "source": [
        "temp = worldometer_data[worldometer_data['WHO Region']!=0]"
      ],
      "execution_count": null,
      "outputs": []
    },
    {
      "cell_type": "code",
      "metadata": {
        "trusted": true,
        "_kg_hide-input": true,
        "id": "236arrVetAEa"
      },
      "source": [
        "fig = px.scatter(temp, x='TotalCases', y='TotalDeaths', color='WHO Region', \n",
        "                 height=700, hover_name='Country/Region', log_x=True, log_y=True, \n",
        "                 title='Confirmed vs Deaths',\n",
        "                 color_discrete_sequence=px.colors.qualitative.Vivid)\n",
        "fig.update_traces(textposition='top center')\n",
        "# fig.update_layout(showlegend=False)\n",
        "# fig.update_layout(xaxis_rangeslider_visible=True)\n",
        "fig.show()"
      ],
      "execution_count": null,
      "outputs": []
    },
    {
      "cell_type": "code",
      "metadata": {
        "_kg_hide-input": true,
        "trusted": true,
        "id": "NGCOgOoptAEb"
      },
      "source": [
        "fig = px.scatter(temp, x='Population', y='TotalCases', color='WHO Region', \n",
        "                 height=700, hover_name='Country/Region', log_x=True, log_y=True, \n",
        "                 title='Population vs Confirmed',\n",
        "                 color_discrete_sequence=px.colors.qualitative.Vivid)\n",
        "fig.update_traces(textposition='top center')\n",
        "# fig.update_layout(showlegend=False)\n",
        "# fig.update_layout(xaxis_rangeslider_visible=True)\n",
        "fig.show()"
      ],
      "execution_count": null,
      "outputs": []
    },
    {
      "cell_type": "code",
      "metadata": {
        "_kg_hide-input": true,
        "trusted": true,
        "id": "xZ7eU1vptAEc"
      },
      "source": [
        "px.bar(who_g, x=\"Date\", y=\"Confirmed\", color='WHO Region', \n",
        "       height=600, title='Confirmed', \n",
        "       color_discrete_sequence=px.colors.qualitative.Vivid)"
      ],
      "execution_count": null,
      "outputs": []
    },
    {
      "cell_type": "code",
      "metadata": {
        "trusted": true,
        "_kg_hide-input": true,
        "id": "qmZOVI8StAEf"
      },
      "source": [
        "px.bar(who_g, x=\"Date\", y=\"New cases\", color='WHO Region', \n",
        "       height=600, title='New cases', \n",
        "       color_discrete_sequence=px.colors.qualitative.Vivid)"
      ],
      "execution_count": null,
      "outputs": []
    },
    {
      "cell_type": "code",
      "metadata": {
        "trusted": true,
        "id": "3-ydg9vQtAEg"
      },
      "source": [
        "px.box(worldometer_data, x='WHO Region', y='TotalCases', color='WHO Region',\n",
        "       title='Distribution of country wise no. of cases in different WHO Region')"
      ],
      "execution_count": null,
      "outputs": []
    },
    {
      "cell_type": "markdown",
      "metadata": {
        "id": "eeS_VUjctAEi"
      },
      "source": [
        "## Weekly Statistics"
      ]
    },
    {
      "cell_type": "code",
      "metadata": {
        "_kg_hide-input": true,
        "trusted": true,
        "id": "7upTBtxZtAEi"
      },
      "source": [
        "full_grouped['Week No.'] = full_grouped['Date'].dt.strftime('%U')\n",
        "week_wise = full_grouped.groupby('Week No.')['Confirmed', 'Deaths', 'Recovered', 'Active', 'New cases', 'New deaths', 'New recovered'].sum().reset_index()"
      ],
      "execution_count": null,
      "outputs": []
    },
    {
      "cell_type": "code",
      "metadata": {
        "_kg_hide-input": true,
        "trusted": true,
        "id": "7JDnvz4ktAEk"
      },
      "source": [
        "def plot_weekwise(col, hue):\n",
        "    fig = px.bar(week_wise, x=\"Week No.\", y=col, width=700, color_discrete_sequence=[hue])\n",
        "    fig.update_layout(title=col, xaxis_title=\"\", yaxis_title=\"\")\n",
        "    fig.show()"
      ],
      "execution_count": null,
      "outputs": []
    },
    {
      "cell_type": "code",
      "metadata": {
        "_kg_hide-input": true,
        "trusted": true,
        "id": "O-TTd-vvtAEl"
      },
      "source": [
        "plot_weekwise('Confirmed', '#000000')"
      ],
      "execution_count": null,
      "outputs": []
    },
    {
      "cell_type": "code",
      "metadata": {
        "_kg_hide-input": true,
        "trusted": true,
        "id": "GNkXhkoLtAEm"
      },
      "source": [
        "plot_weekwise('Deaths', dth)"
      ],
      "execution_count": null,
      "outputs": []
    },
    {
      "cell_type": "code",
      "metadata": {
        "_kg_hide-input": true,
        "trusted": true,
        "id": "ZGSZCRectAEn"
      },
      "source": [
        "plot_weekwise('New cases', '#cd6684')"
      ],
      "execution_count": null,
      "outputs": []
    },
    {
      "cell_type": "markdown",
      "metadata": {
        "id": "vN8PRry6tAEo"
      },
      "source": [
        "## Monthly statistics"
      ]
    },
    {
      "cell_type": "code",
      "metadata": {
        "_kg_hide-input": true,
        "trusted": true,
        "id": "-gUQbjZCtAEp"
      },
      "source": [
        "full_grouped['Month'] = pd.DatetimeIndex(full_grouped['Date']).month\n",
        "month_wise = full_grouped.groupby('Month')['Confirmed', 'Deaths', 'Recovered', 'Active', 'New cases', 'New deaths', 'New recovered'].sum().reset_index()"
      ],
      "execution_count": null,
      "outputs": []
    },
    {
      "cell_type": "code",
      "metadata": {
        "_kg_hide-input": true,
        "trusted": true,
        "id": "O5PHeHZUtAEq"
      },
      "source": [
        "def plot_monthwise(col, hue):\n",
        "    fig = px.bar(month_wise, x=\"Month\", y=col, width=700, color_discrete_sequence=[hue])\n",
        "    fig.update_layout(title=col, xaxis_title=\"\", yaxis_title=\"\")\n",
        "    fig.show()"
      ],
      "execution_count": null,
      "outputs": []
    },
    {
      "cell_type": "code",
      "metadata": {
        "_kg_hide-input": true,
        "trusted": true,
        "id": "EGVs5LsDtAEs"
      },
      "source": [
        "plot_monthwise('Confirmed', '#000000')"
      ],
      "execution_count": null,
      "outputs": []
    },
    {
      "cell_type": "code",
      "metadata": {
        "_kg_hide-input": true,
        "trusted": true,
        "id": "m7ngzqaEtAEt"
      },
      "source": [
        "plot_monthwise('Deaths', dth)"
      ],
      "execution_count": null,
      "outputs": []
    },
    {
      "cell_type": "code",
      "metadata": {
        "_kg_hide-input": true,
        "trusted": true,
        "id": "bCExVrDvtAEu"
      },
      "source": [
        "plot_monthwise('New cases', '#cd6684')"
      ],
      "execution_count": null,
      "outputs": []
    },
    {
      "cell_type": "markdown",
      "metadata": {
        "id": "CU6PcPXmtAEw"
      },
      "source": [
        "# Countries with no more active cases"
      ]
    },
    {
      "cell_type": "code",
      "metadata": {
        "trusted": true,
        "id": "6NS54EostAEw"
      },
      "source": [
        "temp = country_wise[country_wise['Active']==0]\n",
        "temp = temp.sort_values('Confirmed', ascending=False)\n",
        "temp.reset_index(drop=True)"
      ],
      "execution_count": null,
      "outputs": []
    },
    {
      "cell_type": "markdown",
      "metadata": {
        "id": "9NqPg5kZtAEz"
      },
      "source": [
        "# Healthy life expectancy vs Deaths / 100 Cases"
      ]
    },
    {
      "cell_type": "code",
      "metadata": {
        "trusted": true,
        "id": "9Fq9sMIYtAE0"
      },
      "source": [
        "happiness_report = pd.read_csv('../input/world-happiness/2019.csv')\n",
        "happiness_report = happiness_report[['Country or region', 'Healthy life expectancy']]\n",
        "\n",
        "temp = country_wise.merge(happiness_report, left_on='Country/Region', right_on='Country or region')\n",
        "px.scatter(temp, y='Deaths / 100 Cases', x='Healthy life expectancy', color='WHO Region', hover_data=['Country/Region'])"
      ],
      "execution_count": null,
      "outputs": []
    }
  ]
}